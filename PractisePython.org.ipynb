{
 "cells": [
  {
   "cell_type": "markdown",
   "metadata": {},
   "source": [
    "## 1. Character Input"
   ]
  },
  {
   "cell_type": "markdown",
   "metadata": {},
   "source": [
    "__Create a program that asks the user to enter their name and their age. Print out a message addressed to them that tells them the year that they will turn 100 years old.__\n",
    "\n",
    "__Extras:__\n",
    "\n",
    "__1.Add on to the previous program by asking the user for another number and printing out that many copies of the previous message. (Hint: order of operations exists in Python)__\n",
    "\n",
    "__2.Print out that many copies of the previous message on separate lines. (Hint: the string \"\\n is the same as pressing the ENTER button)__"
   ]
  },
  {
   "cell_type": "code",
   "execution_count": 2,
   "metadata": {},
   "outputs": [
    {
     "name": "stdout",
     "output_type": "stream",
     "text": [
      "What is your Name? : John\n",
      "What is your age? : 27\n",
      "John will turn 100 years old in the year 2093\n"
     ]
    }
   ],
   "source": [
    "# Solution to 1\n",
    "\n",
    "from datetime import datetime\n",
    "name = str(input('What is your Name? : '))\n",
    "age = int(input('What is your age? : '))\n",
    "\n",
    "current_date = datetime.now()\n",
    "future_age = 100 - age + current_date.year\n",
    "print('{} will turn 100 years old in the year {}'.format(name,future_age))"
   ]
  },
  {
   "cell_type": "code",
   "execution_count": 3,
   "metadata": {},
   "outputs": [
    {
     "name": "stdout",
     "output_type": "stream",
     "text": [
      "Please enter a new number : 2\n",
      "John will turn 100 years old in the year 2093\n",
      "John will turn 100 years old in the year 2093\n"
     ]
    }
   ],
   "source": [
    "#Solution to 1a\n",
    "\n",
    "new_number = int(input('Please enter a new number : '))\n",
    "for i in range(new_number):\n",
    "    print('{} will turn 100 years old in the year {}'.format(name,future_age))\n"
   ]
  },
  {
   "cell_type": "code",
   "execution_count": 4,
   "metadata": {},
   "outputs": [
    {
     "name": "stdout",
     "output_type": "stream",
     "text": [
      "John will turn 100 years old in the year 2093 \n",
      "\n",
      "John will turn 100 years old in the year 2093 \n",
      "\n"
     ]
    }
   ],
   "source": [
    "#Solution to 1b\n",
    "\n",
    "for i in range(new_number):\n",
    "    print('{} will turn 100 years old in the year {} \\n'.format(name,future_age))\n"
   ]
  },
  {
   "cell_type": "markdown",
   "metadata": {},
   "source": [
    "## 2. Odd or Even"
   ]
  },
  {
   "cell_type": "markdown",
   "metadata": {},
   "source": [
    "__Ask the user for a number. Depending on whether the number is even or odd, print out an appropriate message to the user. Hint: how does an even / odd number react differently when divided by 2?__\n",
    "\n",
    "__Extras:__\n",
    "\n",
    "__1.If the number is a multiple of 4, print out a different message.__\n",
    "\n",
    "__2.Ask the user for two numbers: one number to check (call it num) and one number to divide by (check). If check divides evenly into num, tell that to the user. If not, print a different appropriate message.__"
   ]
  },
  {
   "cell_type": "code",
   "execution_count": 15,
   "metadata": {},
   "outputs": [
    {
     "name": "stdout",
     "output_type": "stream",
     "text": [
      "Enter the first number : 3424324\n",
      "Enter the second number : 343\n",
      "The number 3424324 is a multiple of 4\n",
      "The numbers 3424324 and 343 do not divide evenly.\n"
     ]
    }
   ],
   "source": [
    "#Solution to 2,2a,2b\n",
    "\n",
    "num1 = int(input('Enter the first number : '))\n",
    "num2 = int(input('Enter the second number : '))\n",
    "\n",
    "if num1%4==0:\n",
    "    print('The number {} is a multiple of 4'.format(num1))\n",
    "elif num1%2==0:\n",
    "    print('The number {} is Even'.format(num1))\n",
    "else:\n",
    "    print('The number {} is Odd'.format(num1))\n",
    "\n",
    "\n",
    "if num1%num2 == 0:\n",
    "    print('The numbers {} and {} divide evenly.'.format(num1,num2))\n",
    "else:\n",
    "    print('The numbers {} and {} do not divide evenly.'.format(num1,num2))"
   ]
  },
  {
   "cell_type": "markdown",
   "metadata": {},
   "source": [
    "## 3. List less than ten\n",
    "\n",
    "**Consider this list a = [1, 1, 2, 3, 5, 8, 13, 21, 34, 55, 89]\n",
    "and write a program that prints out all the elements of the list that are less than 5.**\n",
    "\n",
    "**Extras:**\n",
    "\n",
    "__1.Instead of printing the elements one by one, make a new list that has all the elements less than 5 from this list in it and print out this new list.__\n",
    "\n",
    "__2.Write this in one line of Python.__\n",
    "\n",
    "__3.Ask the user for a number and return a list that contains only elements from the original list a that are smaller than that number given by the user.__"
   ]
  },
  {
   "cell_type": "code",
   "execution_count": 19,
   "metadata": {},
   "outputs": [
    {
     "name": "stdout",
     "output_type": "stream",
     "text": [
      "[1, 1, 2, 3]\n"
     ]
    }
   ],
   "source": [
    "# Solution to 3.1\n",
    "\n",
    "a = [1, 1, 2, 3, 5, 8, 13, 21, 34, 55, 89]\n",
    "new_list = []\n",
    "\n",
    "for k in a:\n",
    "    if k < 5:\n",
    "        new_list.append(k)\n",
    "        \n",
    "print(new_list)"
   ]
  },
  {
   "cell_type": "code",
   "execution_count": 21,
   "metadata": {},
   "outputs": [
    {
     "name": "stdout",
     "output_type": "stream",
     "text": [
      "[1, 1, 2, 3]\n"
     ]
    }
   ],
   "source": [
    "# Solution to 3.2\n",
    "\n",
    "print([k for k in a if k < 5])"
   ]
  },
  {
   "cell_type": "code",
   "execution_count": 22,
   "metadata": {},
   "outputs": [
    {
     "name": "stdout",
     "output_type": "stream",
     "text": [
      "Please provide a number : 55\n",
      "[1, 1, 2, 3, 5, 8, 13, 21, 34]\n"
     ]
    }
   ],
   "source": [
    "# Solution to 3.3\n",
    "\n",
    "input_num = int(input('Please provide a number : '))\n",
    "print([k for k in a if k < input_num])"
   ]
  },
  {
   "cell_type": "markdown",
   "metadata": {},
   "source": [
    "## 4. Divisors\n",
    "\n",
    "__Create a program that asks the user for a number and then prints out a list of all the divisors of that number. (If you don’t know what a divisor is, it is a number that divides evenly into another number. For example, 13 is a divisor of 26 because 26 / 13 has no remainder.)__"
   ]
  },
  {
   "cell_type": "code",
   "execution_count": 29,
   "metadata": {},
   "outputs": [
    {
     "name": "stdout",
     "output_type": "stream",
     "text": [
      "Please provide a number : 12\n",
      "The list of divisors are : [1, 2, 3, 4, 6, 12]\n"
     ]
    }
   ],
   "source": [
    "num = int(input('Please provide a number : '))\n",
    "\n",
    "divisor_list = []\n",
    "\n",
    "for k in range(1,num+1): \n",
    "    if num%k==0:\n",
    "        divisor_list.append(k)\n",
    "        \n",
    "print('The list of divisors are :',divisor_list)"
   ]
  },
  {
   "cell_type": "markdown",
   "metadata": {},
   "source": [
    "__Note:__\n",
    "\n",
    "__a)Start range from 1, since number / 0 is not defined__\n",
    "\n",
    "__b)Important to include num+1 in range because we want to include the input number as well.__"
   ]
  },
  {
   "cell_type": "markdown",
   "metadata": {},
   "source": [
    "## **5. List Overlap**"
   ]
  },
  {
   "cell_type": "raw",
   "metadata": {},
   "source": [
    "Take two lists, say for example these two:\n",
    "\n",
    "  a = [1, 1, 2, 3, 5, 8, 13, 21, 34, 55, 89]\n",
    "  b = [1, 2, 3, 4, 5, 6, 7, 8, 9, 10, 11, 12, 13]\n",
    "and write a program that returns a list that contains only the elements that are common between the lists (without duplicates). Make sure your program works on two lists of different sizes.\n",
    "\n",
    "Extras:\n",
    "\n",
    "Randomly generate two lists to test this\n",
    "Write this in one line of Python (don’t worry if you can’t figure this out at this point - we’ll get to it soon)"
   ]
  },
  {
   "cell_type": "code",
   "execution_count": 39,
   "metadata": {},
   "outputs": [
    {
     "data": {
      "text/plain": [
       "[1, 2, 3, 4, 5, 6, 7, 8, 9, 10, 11, 12, 13]"
      ]
     },
     "execution_count": 39,
     "metadata": {},
     "output_type": "execute_result"
    }
   ],
   "source": [
    "# One line Solution \n",
    "a = [1, 1, 2, 3, 5, 8, 13, 21, 34, 55, 89]\n",
    "b = [1, 2, 3, 4, 5, 6, 7, 8, 9, 10, 11, 12, 13]\n",
    "\n",
    "list(set(a) and set(b))"
   ]
  },
  {
   "cell_type": "markdown",
   "metadata": {},
   "source": [
    "## 6. Palindrome"
   ]
  },
  {
   "cell_type": "raw",
   "metadata": {},
   "source": [
    "Ask the user for a string and print out whether this string is a palindrome or not. (A palindrome is a string that reads the same forwards and backwards.)"
   ]
  },
  {
   "cell_type": "code",
   "execution_count": 47,
   "metadata": {},
   "outputs": [
    {
     "name": "stdout",
     "output_type": "stream",
     "text": [
      "Please provide a word to check : Civiv\n",
      "The given word 'Civiv' is not a Palindrome\n"
     ]
    }
   ],
   "source": [
    "user_inp = str(input('Please provide a word to check : '))\n",
    "if user_inp.lower() == user_inp.lower()[::-1]:\n",
    "    print(\"The given word '{}' is a Palindrome\".format(user_inp))\n",
    "else:\n",
    "    print(\"The given word '{}' is not a Palindrome\".format(user_inp))"
   ]
  },
  {
   "cell_type": "markdown",
   "metadata": {},
   "source": [
    "## 7. List Comprehensions"
   ]
  },
  {
   "cell_type": "raw",
   "metadata": {},
   "source": [
    "I give you a list saved in a variable: a = [1, 4, 9, 16, 25, 36, 49, 64, 81, 100]. Write one line of Python that takes this list a and makes a new list that has only the even elements of this list in it."
   ]
  },
  {
   "cell_type": "code",
   "execution_count": 48,
   "metadata": {},
   "outputs": [
    {
     "data": {
      "text/plain": [
       "[4, 16, 36, 64, 100]"
      ]
     },
     "execution_count": 48,
     "metadata": {},
     "output_type": "execute_result"
    }
   ],
   "source": [
    "a = [1, 4, 9, 16, 25, 36, 49, 64, 81, 100]\n",
    "[k for k in a if k%2==0]"
   ]
  },
  {
   "cell_type": "markdown",
   "metadata": {},
   "source": [
    "## 8. Rock Paper Scissors"
   ]
  },
  {
   "cell_type": "raw",
   "metadata": {},
   "source": [
    "Make a two-player Rock-Paper-Scissors game. (Hint: Ask for player plays (using input), compare them, print out a message of congratulations to the winner, and ask if the players want to start a new game)\n",
    "\n",
    "Remember the rules:\n",
    "\n",
    "Rock beats scissors\n",
    "Scissors beats paper\n",
    "Paper beats rock"
   ]
  },
  {
   "cell_type": "code",
   "execution_count": 20,
   "metadata": {},
   "outputs": [],
   "source": [
    "def game():\n",
    "    \n",
    "    options = ['rock','scissors','paper']\n",
    "    \n",
    "    right = True\n",
    "    while right:\n",
    "        \n",
    "        ply1 = str(input('Player 1, Please select one of these - Rock, Scissors or Paper : ')).lower()\n",
    "        ply2 = str(input('Player 2, Please select one of these - Rock, Scissors or Paper : ')).lower()\n",
    "                \n",
    "        # check for tie\n",
    "        if ply1 == ply2:\n",
    "            print(\"\\nIt's a tie!! Do you want to play again??\\n\")\n",
    "            inp = str(input('Please enter Y or N!'))\n",
    "            if inp.lower() == 'y':\n",
    "                continue\n",
    "            elif inp.lower() == 'n':\n",
    "                right = False\n",
    "                break\n",
    "                \n",
    "        # Winner based on rules\n",
    "        elif ply1 == 'rock':\n",
    "            if ply2 == 'scissors':\n",
    "                print(\"\\nPlayer 1 is the winner!!. Do you want to play again??\\n\")\n",
    "            else:\n",
    "                print(\"\\nPlayer 2 is the winner!!. Do you want to play again??\\n\")\n",
    "            inp = str(input('Please enter Y or N!'))\n",
    "            if inp.lower() == 'y':\n",
    "                continue\n",
    "            elif inp.lower() == 'n':\n",
    "                right = False\n",
    "                break\n",
    "        elif ply1 == 'scissors':\n",
    "            if ply2 == 'paper':\n",
    "                print(\"\\nPlayer 1 is the winner!!.Do you want to play again??\\n\")\n",
    "            else:\n",
    "                print(\"\\nPlayer 2 is the winner!!.Do you want to play again??\\n\")\n",
    "            inp = str(input('Please enter Y or N!'))\n",
    "            if inp.lower() == 'y':\n",
    "                continue\n",
    "            elif inp.lower() == 'n':\n",
    "                right = False\n",
    "                break\n",
    "        elif ply1 == 'paper':\n",
    "            if ply2 == 'rock':\n",
    "                print(\"Player 1 is the winner!!.Do you want to play again??\")\n",
    "            else:\n",
    "                print(\"\\nPlayer 2 is the winner!!.Do you want to play again??\\n\")\n",
    "            inp = str(input('Please enter Y or N!'))\n",
    "            if inp.lower() == 'y':\n",
    "                continue\n",
    "            elif inp.lower() == 'n':\n",
    "                right = False\n",
    "                break\n",
    "        \n",
    "        # Check for invalid input \n",
    "        if (ply1,ply2) not in options:\n",
    "            print(\"\\nInvalid Input!! Do you want to play again??\\n\")\n",
    "            inp = str(input('Please enter Y or N!'))\n",
    "            if inp.lower() == 'y':\n",
    "                continue\n",
    "            elif inp.lower() == 'n':\n",
    "                right = False\n",
    "                break\n",
    "\n",
    "    print('\\nThank you!')\n",
    "            "
   ]
  },
  {
   "cell_type": "code",
   "execution_count": 21,
   "metadata": {},
   "outputs": [
    {
     "name": "stdout",
     "output_type": "stream",
     "text": [
      "Player 1, Please select one of these - Rock, Scissors or Paper : rock\n",
      "Player 2, Please select one of these - Rock, Scissors or Paper : rock\n",
      "\n",
      "It's a tie!! Do you want to play again??\n",
      "\n",
      "Please enter Y or N!y\n",
      "Player 1, Please select one of these - Rock, Scissors or Paper : scissors\n",
      "Player 2, Please select one of these - Rock, Scissors or Paper : rock\n",
      "\n",
      "Player 2 is the winner!!.Do you want to play again??\n",
      "\n",
      "Please enter Y or N!y\n",
      "Player 1, Please select one of these - Rock, Scissors or Paper : sdsd\n",
      "Player 2, Please select one of these - Rock, Scissors or Paper : dsd\n",
      "\n",
      "Invalid Input!! Do you want to play again??\n",
      "\n",
      "Please enter Y or N!y\n",
      "Player 1, Please select one of these - Rock, Scissors or Paper : rock\n",
      "Player 2, Please select one of these - Rock, Scissors or Paper : scissors\n",
      "\n",
      "Player 1 is the winner!!. Do you want to play again??\n",
      "\n",
      "Please enter Y or N!y\n",
      "Player 1, Please select one of these - Rock, Scissors or Paper : rock\n",
      "Player 2, Please select one of these - Rock, Scissors or Paper : rock\n",
      "\n",
      "It's a tie!! Do you want to play again??\n",
      "\n",
      "Please enter Y or N!n\n",
      "\n",
      "Thank you!\n"
     ]
    }
   ],
   "source": [
    "game()"
   ]
  },
  {
   "cell_type": "markdown",
   "metadata": {},
   "source": [
    "## 9. Guessing Game One!"
   ]
  },
  {
   "cell_type": "raw",
   "metadata": {},
   "source": [
    "Generate a random number between 1 and 9 (including 1 and 9). Ask the user to guess the number, then tell them whether they guessed too low, too high, or exactly right. (Hint: remember to use the user input lessons from the very first exercise)\n",
    "\n",
    "Extras:\n",
    "\n",
    "Keep the game going until the user types “exit”\n",
    "Keep track of how many guesses the user has taken, and when the game ends, print this out."
   ]
  },
  {
   "cell_type": "code",
   "execution_count": 24,
   "metadata": {},
   "outputs": [
    {
     "name": "stdout",
     "output_type": "stream",
     "text": [
      "Please guess the number between 1 to 9 : 23\n",
      "\n",
      "Too High!! \n",
      "Try again!!\n",
      "Please guess the number between 1 to 9 : 4\n",
      "\n",
      "Too High!! \n",
      "Try again!!\n",
      "Please guess the number between 1 to 9 : 3\n",
      "\n",
      "Exact Right match!!\n",
      "\n",
      "You took 3 guesses to reach the right answer\n"
     ]
    }
   ],
   "source": [
    "from random import randint\n",
    "\n",
    "\n",
    "#Computer selects a random number\n",
    "numb = randint(1,10)\n",
    "guess_count = 0\n",
    "right = True\n",
    "while right:\n",
    "\n",
    "    \n",
    "\n",
    "    # User inputs the number\n",
    "    inp = input('Please guess the number between 1 to 9 : ')\n",
    "\n",
    "    #Check for conditions\n",
    "    if inp.isdigit():\n",
    "        if int(inp) > numb:\n",
    "            print('\\nToo High!! \\nTry again!!')\n",
    "            guess_count += 1\n",
    "            continue\n",
    "        elif int(inp) < numb:\n",
    "            print('\\nToo Less!!')\n",
    "            guess_count += 1\n",
    "            continue\n",
    "        else:\n",
    "            print('\\nExact Right match!!')\n",
    "            guess_count += 1\n",
    "            print('\\nYou took {} guesses to reach the right answer'.format(guess_count))\n",
    "            right = False\n",
    "    elif inp == 'exit':\n",
    "        print('Thanks for playing')\n",
    "        right = False\n",
    "        break\n",
    "    else:\n",
    "        print(\"Please enter a number between 1-9 or type 'exit'\")\n",
    "        print('Thanks for playing')"
   ]
  },
  {
   "cell_type": "markdown",
   "metadata": {},
   "source": [
    "## 10. List Overlap Comprehensions"
   ]
  },
  {
   "cell_type": "raw",
   "metadata": {},
   "source": [
    "This week’s exercise is going to be revisiting an old exercise (see Exercise 5), except require the solution in a different way.\n",
    "\n",
    "Take two lists, say for example these two:\n",
    "\n",
    "\ta = [1, 1, 2, 3, 5, 8, 13, 21, 34, 55, 89]\n",
    "\tb = [1, 2, 3, 4, 5, 6, 7, 8, 9, 10, 11, 12, 13]\n",
    "and write a program that returns a list that contains only the elements that are common between the lists (without duplicates). Make sure your program works on two lists of different sizes. \n",
    "\n",
    "Extra:\n",
    "\n",
    "Randomly generate two lists to test this"
   ]
  },
  {
   "cell_type": "code",
   "execution_count": 46,
   "metadata": {},
   "outputs": [
    {
     "name": "stdout",
     "output_type": "stream",
     "text": [
      "[2, 3, 4]\n",
      "[2, 3, 4]\n"
     ]
    }
   ],
   "source": [
    "#a = [1, 1, 2, 3, 5, 8, 13, 21, 34, 55, 89]\n",
    "#b = [1, 2, 3, 4, 5, 6, 7, 8, 9, 10, 11, 12, 13]\n",
    "\n",
    "a = [k for k in range(2,10)]\n",
    "b = [k for k in range(0,5)]\n",
    "\n",
    "# Solution 1\n",
    "print(list(set(a).intersection(b)))\n",
    "\n",
    "# Solution 2\n",
    "print([i for i in a if i in b])\n"
   ]
  },
  {
   "cell_type": "markdown",
   "metadata": {},
   "source": [
    "## 11. Check Primality Functions"
   ]
  },
  {
   "cell_type": "raw",
   "metadata": {},
   "source": [
    "Ask the user for a number and determine whether the number is prime or not. (For those who have forgotten, a prime number is a number that has no divisors.). "
   ]
  },
  {
   "cell_type": "code",
   "execution_count": 73,
   "metadata": {},
   "outputs": [
    {
     "name": "stdout",
     "output_type": "stream",
     "text": [
      "Please provide a number : 29\n",
      "The number 29 is Prime!!\n"
     ]
    }
   ],
   "source": [
    "inp = int(input('Please provide a number : '))\n",
    "\n",
    "lst = []\n",
    "\n",
    "for k in range(2,inp+1):\n",
    "    if k%2 != 0 and inp%k==0:\n",
    "        lst.append(k)\n",
    "\n",
    "if len(lst) == 1:\n",
    "    print('The number {} is Prime!!'.format(inp))\n",
    "else:\n",
    "    print('The number {} is NOT Prime!!'.format(inp))"
   ]
  },
  {
   "cell_type": "markdown",
   "metadata": {},
   "source": [
    "## 12. List Ends"
   ]
  },
  {
   "cell_type": "raw",
   "metadata": {},
   "source": [
    "Write a program that takes a list of numbers (for example, a = [5, 10, 15, 20, 25]) and makes a new list of only the first and last elements of the given list. For practice, write this code inside a function."
   ]
  },
  {
   "cell_type": "code",
   "execution_count": 76,
   "metadata": {},
   "outputs": [
    {
     "data": {
      "text/plain": [
       "[5, 25]"
      ]
     },
     "execution_count": 76,
     "metadata": {},
     "output_type": "execute_result"
    }
   ],
   "source": [
    "a = [5, 10, 15, 20, 25]\n",
    "[a[0],a[-1]]"
   ]
  },
  {
   "cell_type": "code",
   "execution_count": 82,
   "metadata": {},
   "outputs": [],
   "source": [
    "#Solution 1\n",
    "def list_ends(a_list):\n",
    "    return [a_list[0], a_list[len(a_list)-1]]\n",
    "\n",
    "#Solution 2\n",
    "def list_ends_two(a_list):\n",
    "    return [a_list[0], a_list[-1]]"
   ]
  },
  {
   "cell_type": "code",
   "execution_count": 86,
   "metadata": {},
   "outputs": [
    {
     "name": "stdout",
     "output_type": "stream",
     "text": [
      "[5, 25]\n",
      "[5, 25]\n"
     ]
    }
   ],
   "source": [
    "print(list_ends(a))\n",
    "print(list_ends_two(a))"
   ]
  },
  {
   "cell_type": "markdown",
   "metadata": {},
   "source": [
    "## 13. Fibonacci"
   ]
  },
  {
   "cell_type": "raw",
   "metadata": {},
   "source": [
    "Write a program that asks the user how many Fibonnaci numbers to generate and then generates them. Take this opportunity to think about how you can use functions. Make sure to ask the user to enter the number of numbers in the sequence to generate.(Hint: The Fibonnaci seqence is a sequence of numbers where the next number in the sequence is the sum of the previous two numbers in the sequence. The sequence looks like this: 1, 1, 2, 3, 5, 8, 13, …)"
   ]
  },
  {
   "cell_type": "code",
   "execution_count": 50,
   "metadata": {},
   "outputs": [
    {
     "name": "stdout",
     "output_type": "stream",
     "text": [
      "Please input number: 7\n",
      "[1, 1, 2]\n",
      "[1, 1, 2, 3]\n",
      "[1, 1, 2, 3, 5]\n",
      "[1, 1, 2, 3, 5, 8]\n",
      "[1, 1, 2, 3, 5, 8, 13]\n"
     ]
    }
   ],
   "source": [
    "a=int(input('Please input number: '))\n",
    "if a==1:\n",
    "    b=[1]\n",
    "elif a!=1:\n",
    "    b=[1,1]\n",
    "for i in b:\n",
    "    if len(b)<a: \n",
    "        i=b[-1]+b[-2]\n",
    "        b.append(i) \n",
    "        print(b)"
   ]
  },
  {
   "cell_type": "markdown",
   "metadata": {},
   "source": [
    "## 14. List remove Duplicates"
   ]
  },
  {
   "cell_type": "raw",
   "metadata": {},
   "source": [
    "Write a program (function!) that takes a list and returns a new list that contains all the elements of the first list minus all the duplicates.\n",
    "\n",
    "Extras:\n",
    "\n",
    "Write two different functions to do this - one using a loop and constructing a list, and another using sets.\n",
    "Go back and do Exercise 5 using sets, and write the solution for that in a different function."
   ]
  },
  {
   "cell_type": "code",
   "execution_count": 83,
   "metadata": {},
   "outputs": [
    {
     "data": {
      "text/plain": [
       "[1, 4, 5, 6, 7, 8]"
      ]
     },
     "execution_count": 83,
     "metadata": {},
     "output_type": "execute_result"
    }
   ],
   "source": [
    "# Solution 1 using Sets\n",
    "def rem_dup1(lst):\n",
    "    return list(set(lst))\n",
    "\n",
    "#Sample\n",
    "rem_dup1([1,6,5,4,5,6,7,8,7,4])"
   ]
  },
  {
   "cell_type": "code",
   "execution_count": 85,
   "metadata": {},
   "outputs": [
    {
     "name": "stdout",
     "output_type": "stream",
     "text": [
      "[1, 6, 5, 4, 7, 8]\n"
     ]
    }
   ],
   "source": [
    "# Solution 2 using loops\n",
    "def rem_dup2(lst):\n",
    "    new_list = []\n",
    "    for i in lst:\n",
    "        if i in new_list:\n",
    "            continue\n",
    "        else:\n",
    "            new_list.append(i)\n",
    "        \n",
    "    print(new_list)\n",
    "    \n",
    "#Sample\n",
    "rem_dup2([1,6,5,4,5,6,7,8,7,4])\n"
   ]
  },
  {
   "cell_type": "markdown",
   "metadata": {},
   "source": [
    "## 15. Reverse Word Order"
   ]
  },
  {
   "cell_type": "raw",
   "metadata": {},
   "source": [
    "Write a program (using functions!) that asks the user for a long string containing multiple words. Print back to the user the same string, except with the words in backwards order. For example, say I type the string:\n",
    "\n",
    "  My name is Michele\n",
    "Then I would see the string:\n",
    "\n",
    "  Michele is name My\n",
    "shown back to me."
   ]
  },
  {
   "cell_type": "code",
   "execution_count": 101,
   "metadata": {},
   "outputs": [
    {
     "name": "stdout",
     "output_type": "stream",
     "text": [
      "Please enter the sentence without punctuations to reverseWhen he  told its difficult I did it\n"
     ]
    },
    {
     "data": {
      "text/plain": [
       "'it did I difficult its told he When'"
      ]
     },
     "execution_count": 101,
     "metadata": {},
     "output_type": "execute_result"
    }
   ],
   "source": [
    "def reverse_word_order():\n",
    "    inp = str(input('Please enter the sentence without punctuations to reverse'))\n",
    "    words = inp.split()\n",
    "    new_list = []\n",
    "    for i in range(len(words),0,-1):\n",
    "        new_list.append(words[i-1])\n",
    "        \n",
    "    return ' '.join(new_list)\n",
    "\n",
    "reverse_word_order()"
   ]
  },
  {
   "cell_type": "markdown",
   "metadata": {},
   "source": [
    "## 16. Password Generator"
   ]
  },
  {
   "cell_type": "raw",
   "metadata": {},
   "source": [
    "Write a password generator in Python. Be creative with how you generate passwords - strong passwords have a mix of lowercase letters, uppercase letters, numbers, and symbols. The passwords should be random, generating a new password every time the user asks for a new password. Include your run-time code in a main method.\n",
    "\n",
    "Extra:\n",
    "\n",
    "Ask the user how strong they want their password to be. For weak passwords, pick a word or two from a list."
   ]
  },
  {
   "cell_type": "code",
   "execution_count": 171,
   "metadata": {},
   "outputs": [],
   "source": [
    "import random\n",
    "import string\n",
    "def password_generator1():\n",
    "    inp1 = str(input('Please enter your Full name : '))\n",
    "    inp2 = str(input(\"How strong you want the new password to be ? Type 'Strong' or 'Weak' \"))\n",
    "    low_letters = list(string.ascii_lowercase)\n",
    "    up_letters = list(string.ascii_uppercase)\n",
    "    numbers = list(string.digits)\n",
    "    symbols = list(string.punctuation)\n",
    "    words = [(inp1[i:i+3]) for i in range(0,len(inp1),3)]\n",
    "    all_values = (low_letters,up_letters,numbers,symbols,words)\n",
    "    if inp2.lower() == 'strong':\n",
    "        new_pswd = []\n",
    "        for k in all_values[0:4]:\n",
    "            n = random.sample(k,5)\n",
    "            new_pswd.append(n)\n",
    "        return ''.join([item for sub_list in new_pswd for item in sub_list])\n",
    "    elif inp2.lower() == 'weak':\n",
    "        new_pswd = []\n",
    "        for k in all_values[0:4]:\n",
    "            n = random.sample(k,2)\n",
    "            new_pswd.append(n)\n",
    "        for k in all_values[-1]:\n",
    "            n = random.sample(k,2)\n",
    "            new_pswd.append(n)\n",
    "        return ''.join([item for sub_list in new_pswd for item in sub_list])\n",
    "        \n",
    "# Note : We can make the code very easy by using string.printabale to get all characters"
   ]
  },
  {
   "cell_type": "code",
   "execution_count": 172,
   "metadata": {},
   "outputs": [
    {
     "name": "stdout",
     "output_type": "stream",
     "text": [
      "Please enter your Full name :  password_generator()\n",
      "How strong you want the new password to be ? Type 'Strong' or 'Weak' weak\n"
     ]
    },
    {
     "data": {
      "text/plain": [
       "'bjEG23.<a sworgereto)('"
      ]
     },
     "execution_count": 172,
     "metadata": {},
     "output_type": "execute_result"
    }
   ],
   "source": [
    "# Output\n",
    "password_generator1()"
   ]
  },
  {
   "cell_type": "markdown",
   "metadata": {},
   "source": [
    "## 17. Decode a Web page"
   ]
  },
  {
   "cell_type": "raw",
   "metadata": {},
   "source": [
    "Use the BeautifulSoup and requests Python packages to print out a list of all the article titles on the New York Times homepage."
   ]
  },
  {
   "cell_type": "code",
   "execution_count": 192,
   "metadata": {
    "collapsed": true
   },
   "outputs": [
    {
     "name": "stdout",
     "output_type": "stream",
     "text": [
      "Skip to content #site-content\n",
      "Skip to site index #site-index\n",
      "Politics https://www.nytimes.com/section/politics\n",
      " /\n",
      "Log In https://myaccount.nytimes.com/auth/login?response_type=cookie&client_id=vi\n",
      "Log In https://myaccount.nytimes.com/auth/login?response_type=cookie&client_id=vi\n",
      "Today’s Paper https://www.nytimes.com/section/todayspaper\n",
      "Continue reading the main story #after-top\n",
      "Continue reading the main story #after-sponsor\n",
      "U.S. /section/us\n",
      " https://www.facebook.com/dialog/feed?app_id=9869919170&link=https%3A%2F%2Fwww.nytimes.com%2Fnews-event%2F2020-election%3Fsmid%3Dfb-share&name=Election%202020&redirect_uri=https%3A%2F%2Fwww.facebook.com%2F\n",
      " https://twitter.com/intent/tweet?url=https%3A%2F%2Fnyti.ms%2F2W3SF4v&text=Election%202020\n",
      " mailto:?subject=NYTimes.com%3A%20Election%202020&body=From%20The%20New%20York%20Times%3A%0A%0AElection%202020%0A%0ACoverage%20of%20the%202020%20presidential%20election%2C%20the%20Democratic%20candidates%20and%20Donald%20Trump%E2%80%99s%20campaign%20for%20a%20second%20term.%0A%0Ahttps%3A%2F%2Fwww.nytimes.com%2Fnews-event%2F2020-election%3Fsmid%3Dem-share\n",
      "Continue reading the main story #after-subheader\n",
      "\n",
      "\n",
      "\n",
      "            .st0 {\n",
      "              fill: #f4564a;\n",
      "            }\n",
      "\n",
      "            .st1 {\n",
      "              fill: #ffffff;\n",
      "            }\n",
      "\n",
      "            .st2 {\n",
      "              fill: #2b8ad8;\n",
      "            }\n",
      "          \n",
      "\n",
      "\n",
      "\n",
      "\n",
      "\n",
      "\n",
      "\n",
      "\n",
      "\n",
      "\n",
      "\n",
      "\n",
      "\n",
      "\n",
      "\n",
      "\n",
      "\n",
      "\n",
      "\n",
      "\n",
      "\n",
      "\n",
      "\n",
      "\n",
      "\n",
      " https://nytimes.com/news-event/2020-election\n",
      "\n",
      "            Sanders Drops Out https://www.nytimes.com/2020/04/08/us/politics/bernie-sanders-drops-out.html\n",
      "\n",
      "            Delegate Count https://www.nytimes.com/interactive/2020/us/elections/delegate-count-primary-results.html\n",
      "\n",
      "            Who’s Running https://www.nytimes.com/interactive/2019/us/politics/2020-presidential-candidates.html\n",
      "\n",
      "            Election Calendar https://www.nytimes.com/interactive/2019/us/elections/2020-presidential-election-calendar.html\n",
      "\n",
      "            Politics Newsletter https://www.nytimes.com/newsletters/politics\n",
      "Bernie Sanders dropped out https://www.nytimes.com/2020/04/08/us/politics/bernie-sanders-drops-out.html\n",
      "We’re keeping track here. https://www.nytimes.com/article/2020-campaign-primary-calendar-coronavirus.html\n",
      "Meet the  https://www.nytimes.com/interactive/2019/us/politics/2020-presidential-candidates.html\n",
      "C https://www.nytimes.com/interactive/2019/us/politics/2020-presidential-candidates.html\n",
      "andidates https://www.nytimes.com/interactive/2019/us/politics/2020-presidential-candidates.html\n",
      "\n",
      "\n",
      "\n",
      "\n",
      "Joe Biden\n",
      " https://www.nytimes.com/interactive/2020/us/elections/joe-biden.html\n",
      "\n",
      "\n",
      "\n",
      "\n",
      "Bernie Sanders\n",
      " https://www.nytimes.com/interactive/2020/us/elections/bernie-sanders.html\n",
      "Democratic Primary https://www.nytimes.com/interactive/2020/us/elections/democratic-polls.html\n",
      "  https://www.nytimes.com/interactive/2020/us/elections/democratic-polls.html\n",
      "Polls https://www.nytimes.com/interactive/2020/us/elections/democratic-polls.html\n",
      " /2020/04/08/us/politics/republicans-vote-by-mail.html\n",
      " /2020/04/08/us/politics/republicans-vote-by-mail.html\n",
      "Why Republicans Are So Afraid of Vote-by-Mail /2020/04/08/us/politics/republicans-vote-by-mail.html\n",
      " /2020/04/09/us/politics/bernie-sanders-joe-biden-democrats-2020.html\n",
      " /2020/04/09/us/politics/bernie-sanders-joe-biden-democrats-2020.html\n",
      "Can Bernie Sanders and Joe Biden Unite the Democratic Party? /2020/04/09/us/politics/bernie-sanders-joe-biden-democrats-2020.html\n",
      " /2020/04/08/us/politics/biden-sanders-campaign-policy.html\n",
      "Now Comes the Hard Part for Joe Biden /2020/04/08/us/politics/biden-sanders-campaign-policy.html\n",
      " /2020/04/08/us/politics/biden-sanders-campaign-policy.html\n",
      " /2020/04/08/us/politics/bernie-sanders-2020-campaign.html\n",
      "Where the Promise of Bernie Sanders Goes Now /2020/04/08/us/politics/bernie-sanders-2020-campaign.html\n",
      " /2020/04/08/us/politics/bernie-sanders-2020-campaign.html\n",
      "Continue reading the main story #after-mid1\n",
      "Latest #stream-panel\n",
      "SearchSearchClear this text input #stream-panel\n",
      "On Politics: Biden’s Big ChallengeThe general election starts … now, basically. This is your morning tip sheet.By Giovanni Russonello /2020/04/09/us/politics/biden-sanders-trump-election.html\n",
      "Wisconsin Supreme Court and Statewide Election Results 2020 /interactive/2020/04/07/us/elections/results-wisconsin-spring-elections.html\n",
      "On Politics With Lisa LererHow It Ended for SandersIt wasn’t the Democratic establishment that defeated him. It was the ceiling on his support.By Lisa Lerer /2020/04/08/us/politics/how-bernie-sanders-lost.html\n",
      "Bernie Sanders Drops OutWhat does Sanders’s exit mean for the movement he’s generated? /2020/04/08/podcasts/the-latest-bernie-sanders.html\n",
      "Trump Is Pushing a False Argument on Vote-by-Mail Fraud. Here Are the Facts.As the coronavirus pandemic accelerates a national trend toward voting by mail, experts say it can be conducted safely, despite Republican claims of corruption.By Stephanie Saul and Reid J. Epstein /article/mail-in-voting-explained.html\n",
      "From a 5th-Place Finish to Here: A Timeline of Joe Biden’s ComebackBefore the Iowa caucuses in February, Mr. Biden’s campaign seemed in danger of collapsing. Now he is the presumptive Democratic nominee. Here’s how he turned things around.By Isabella Grullón Paz and Matt Stevens /2020/04/08/us/politics/joe-biden-2020-presidential-campaign.html\n",
      "As Pandemic Imperils Elections, Democrats Clash With Trump on Voting ChangesRepublicans, led by President Trump, are resisting broader voting access measures pushed by Democrats, which they see as threats to their election prospects.By Carl Hulse /2020/04/08/us/politics/coronavirus-2020-presidential-election.html\n",
      "Read Bernie Sanders’s Full Speech on Ending His Campaign“While this campaign is coming to an end, our movement is not,” Mr. Sanders said in a video address on Wednesday.By Isabella Grullón Paz /2020/04/08/us/politics/bernie-sanders-concession-speech.html\n",
      "TimesVideoSanders Suspends Campaign: ‘I Do Not Make This Decision Lightly’Senator Bernie Sanders of Vermont announced that he would exit the presidential race, saying he no longer saw a realistic path to the Democratic nomination.By Reuters /video/us/politics/100000007077496/bernie-sanders-live.html\n",
      "Biden vs. Trump: The General Election Is Here, and TransformedThe coronavirus crisis means many questions remain about how the 2020 race will proceed, but the top of the ticket is now clear.By Alexander Burns and Jonathan Martin /2020/04/08/us/politics/joe-biden-donald-trump-2020-election.html\n",
      "Continue reading the main story #after-mid2\n",
      "SIGN UP /newsletters/signup/CN\n",
      "Continue reading the main story #after-mktg\n",
      "nytpoliticstwitter page for nytpolitics https://twitter.com/nytpolitics\n",
      "nytpoliticsfacebook page for nytpolitics https://www.facebook.com/nytpolitics\n",
      "© 2020 The New York Times Company https://help.nytimes.com/hc/en-us/articles/115014792127-Copyright-notice\n",
      "NYTCo https://www.nytco.com/\n",
      "Contact Us https://help.nytimes.com/hc/en-us/articles/115015385887-Contact-Us\n",
      "Work with us https://www.nytco.com/careers/\n",
      "Advertise https://nytmediakit.com/\n",
      "T Brand Studio http://www.tbrandstudio.com/\n",
      "Your Ad Choices https://help.nytimes.com/hc/en-us/articles/115014892108-Privacy-policy\n",
      "Privacy https://help.nytimes.com/hc/en-us/articles/115014892108-Privacy-policy\n",
      "Terms of Service https://help.nytimes.com/hc/en-us/articles/115014893428-Terms-of-service\n",
      "Terms of Sale https://help.nytimes.com/hc/en-us/articles/115014893968-Terms-of-sale\n",
      "Site Map https://spiderbites.nytimes.com\n",
      "Help https://help.nytimes.com/hc/en-us\n",
      "Subscriptions https://www.nytimes.com/subscription?campaignId=37WXW\n"
     ]
    }
   ],
   "source": [
    "import requests\n",
    "from bs4 import BeautifulSoup\n",
    "url = 'https://www.nytimes.com/news-event/2020-election'\n",
    "r = requests.get(url)\n",
    "#r.content\n",
    "soup = BeautifulSoup(r.content)\n",
    "#print(soup.prettify())\n",
    "for link in soup.find_all('a'):\n",
    "    print(link.text,link.get('href'))"
   ]
  },
  {
   "cell_type": "markdown",
   "metadata": {},
   "source": [
    "## 18.Cows and Bulls "
   ]
  },
  {
   "cell_type": "raw",
   "metadata": {},
   "source": [
    "Create a program that will play the “cows and bulls” game with the user. The game works like this:\n",
    "\n",
    "Randomly generate a 4-digit number. Ask the user to guess a 4-digit number. For every digit that the user guessed correctly in the correct place, they have a “cow”. For every digit the user guessed correctly in the wrong place is a “bull.” Every time the user makes a guess, tell them how many “cows” and “bulls” they have. Once the user guesses the correct number, the game is over. Keep track of the number of guesses the user makes throughout teh game and tell the user at the end.\n",
    "\n",
    "Say the number generated by the computer is 1038. An example interaction could look like this:\n",
    "\n",
    "  Welcome to the Cows and Bulls Game! \n",
    "  Enter a number: \n",
    "  >>> 1234\n",
    "  2 cows, 0 bulls\n",
    "  >>> 1256\n",
    "  1 cow, 1 bull\n",
    "  ...\n",
    "Until the user guesses the number."
   ]
  },
  {
   "cell_type": "code",
   "execution_count": null,
   "metadata": {},
   "outputs": [
    {
     "name": "stdout",
     "output_type": "stream",
     "text": [
      "Let's play a game of Cowbull!\n",
      "I will generate a number, and you have to guess the numbers one digit at a time.\n",
      "For every number in the wrong place, you get a cow. For every one in the right place, you get a bull.\n",
      "The game ends when you get 4 bulls!\n",
      "Type exit at any prompt to exit.\n"
     ]
    }
   ],
   "source": [
    "import random\n",
    "\n",
    "def compare_numbers(number, user_guess):\n",
    "    cowbull = [0,0] #cows, then bulls\n",
    "    for i in range(len(number)):\n",
    "        if number[i] == user_guess[i]:\n",
    "            cowbull[1]+=1\n",
    "        else:\n",
    "            cowbull[0]+=1\n",
    "    return cowbull\n",
    "\n",
    "if __name__==\"__main__\":\n",
    "    playing = True #gotta play the game\n",
    "    number = str(random.randint(0,9999)) #random 4 digit number\n",
    "    guesses = 0\n",
    "\n",
    "    print(\"Let's play a game of Cowbull!\") #explanation\n",
    "    print(\"I will generate a number, and you have to guess the numbers one digit at a time.\")\n",
    "    print(\"For every number in the wrong place, you get a cow. For every one in the right place, you get a bull.\")\n",
    "    print(\"The game ends when you get 4 bulls!\")\n",
    "    print(\"Type exit at any prompt to exit.\")\n",
    "\n",
    "    while playing:\n",
    "        user_guess = input(\"Give me your best guess!\")\n",
    "        if user_guess == \"exit\":\n",
    "            break\n",
    "        cowbullcount = compare_numbers(number,user_guess)\n",
    "        guesses+=1\n",
    "\n",
    "        print(\"You have \"+ str(cowbullcount[0]) + \" cows, and \" + str(cowbullcount[1]) + \" bulls.\")\n",
    "\n",
    "        if cowbullcount[1]==4:\n",
    "            playing = False\n",
    "            print(\"You win the game after \" + str(guesses) + \"! The number was \"+str(number))\n",
    "            break #redundant exit\n",
    "        else:\n",
    "            print(\"Your guess isn't quite right, try again.\")"
   ]
  },
  {
   "cell_type": "markdown",
   "metadata": {},
   "source": [
    "## 20. Element search"
   ]
  },
  {
   "cell_type": "raw",
   "metadata": {},
   "source": [
    "Write a function that takes an ordered list of numbers (a list where the elements are in order from smallest to largest) and another number. The function decides whether or not the given number is inside the list and returns (then prints) an appropriate boolean.\n",
    "\n",
    "Extras:\n",
    "\n",
    "Use binary search."
   ]
  },
  {
   "cell_type": "code",
   "execution_count": 9,
   "metadata": {},
   "outputs": [],
   "source": [
    "def elem_search(a,b):\n",
    "    return b in sorted(a)"
   ]
  },
  {
   "cell_type": "code",
   "execution_count": 10,
   "metadata": {},
   "outputs": [
    {
     "name": "stdout",
     "output_type": "stream",
     "text": [
      "False\n",
      "True\n"
     ]
    }
   ],
   "source": [
    "print(elem_search([1,2,3,4,5],6))\n",
    "print(elem_search([1,2,3,4,5,6,3],3))"
   ]
  },
  {
   "cell_type": "markdown",
   "metadata": {},
   "source": [
    "## 21. Write to a file"
   ]
  },
  {
   "cell_type": "raw",
   "metadata": {},
   "source": [
    "Take the code from the How To Decode A Website exercise (if you didn’t do it or just want to play with some different code, use the code from the solution), and instead of printing the results to a screen, write the results to a txt file. In your code, just make up a name for the file you are saving to.\n",
    "\n",
    "Extras:\n",
    "\n",
    "Ask the user to specify the name of the output file that will be saved."
   ]
  },
  {
   "cell_type": "code",
   "execution_count": 18,
   "metadata": {},
   "outputs": [
    {
     "name": "stdout",
     "output_type": "stream",
     "text": [
      "Please enter the file output name :write_articles\n"
     ]
    }
   ],
   "source": [
    "import requests\n",
    "from bs4 import BeautifulSoup\n",
    " \n",
    "base_url = 'http://www.nytimes.com'\n",
    "r = requests.get(base_url)\n",
    "soup = BeautifulSoup(r.text)\n",
    "\n",
    "a = str(input('Please enter the file output name :'))    \n",
    "with open('{}.txt'.format(a),'w') as open_file:\n",
    "    try:\n",
    "        for story_heading in soup.find_all(class_=\"css-8atqhb\"): \n",
    "            if story_heading.a: \n",
    "                open_file.write(story_heading.a.text.replace(\"\\n\", \" \").strip())\n",
    "            else: \n",
    "                open_file.write(story_heading.contents[0].strip())\n",
    "    except TypeError:\n",
    "        pass"
   ]
  },
  {
   "cell_type": "markdown",
   "metadata": {},
   "source": [
    "## 22. Read from a file"
   ]
  },
  {
   "cell_type": "raw",
   "metadata": {},
   "source": [
    "take this training_01.txt file, and count how many of each “category” of each image there are. This text file is actually a list of files corresponding to the SUN database scene recognition database, and lists the file directory hierarchy for the images. Once you take a look at the first line or two of the file, it will be clear which part represents the scene category. To do this, you’re going to have to remember a bit about string parsing in Python 3. I talked a little bit about it in this post."
   ]
  },
  {
   "cell_type": "code",
   "execution_count": 63,
   "metadata": {
    "collapsed": true
   },
   "outputs": [
    {
     "name": "stdout",
     "output_type": "stream",
     "text": [
      "abbey :  50\n",
      "airplane_cabin :  50\n",
      "airport_terminal :  50\n",
      "alley :  50\n",
      "amphitheater :  50\n",
      "amusement_arcade :  50\n",
      "amusement_park :  50\n",
      "anechoic_chamber :  50\n",
      "apartment_building :  50\n",
      "apse :  50\n",
      "aquarium :  50\n",
      "aqueduct :  50\n",
      "arch :  50\n",
      "archive :  50\n",
      "arrival_gate :  50\n",
      "art_gallery :  50\n",
      "art_school :  50\n",
      "art_studio :  50\n",
      "assembly_line :  50\n",
      "athletic_field :  50\n",
      "atrium :  50\n",
      "attic :  50\n",
      "auditorium :  50\n",
      "auto_factory :  50\n",
      "badlands :  50\n",
      "badminton_court :  50\n",
      "baggage_claim :  50\n",
      "bakery :  50\n",
      "balcony :  100\n",
      "ball_pit :  50\n",
      "ballroom :  50\n",
      "bamboo_forest :  50\n",
      "banquet_hall :  50\n",
      "bar :  50\n",
      "barn :  50\n",
      "barndoor :  50\n",
      "baseball_field :  50\n",
      "basement :  50\n",
      "basilica :  50\n",
      "basketball_court :  50\n",
      "bathroom :  50\n",
      "batters_box :  50\n",
      "bayou :  50\n",
      "bazaar :  100\n",
      "beach :  50\n",
      "beauty_salon :  50\n",
      "bedroom :  50\n",
      "berth :  50\n",
      "biology_laboratory :  50\n",
      "bistro :  50\n",
      "boardwalk :  50\n",
      "boat_deck :  50\n",
      "boathouse :  50\n",
      "bookstore :  50\n",
      "booth :  50\n",
      "botanical_garden :  50\n",
      "bow_window :  100\n",
      "bowling_alley :  50\n",
      "boxing_ring :  50\n",
      "brewery :  50\n",
      "bridge :  50\n",
      "building_facade :  50\n",
      "bullring :  50\n",
      "burial_chamber :  50\n",
      "bus_interior :  50\n",
      "butchers_shop :  50\n",
      "butte :  50\n",
      "cabin :  50\n",
      "cafeteria :  50\n",
      "campsite :  50\n",
      "campus :  50\n",
      "canal :  100\n",
      "candy_store :  50\n",
      "canyon :  50\n",
      "car_interior :  100\n",
      "carrousel :  50\n",
      "casino :  50\n",
      "castle :  50\n",
      "catacomb :  50\n",
      "cathedral :  100\n",
      "cavern :  50\n",
      "cemetery :  50\n",
      "chalet :  50\n",
      "cheese_factory :  50\n",
      "chemistry_lab :  50\n",
      "chicken_coop :  100\n",
      "childs_room :  50\n",
      "church :  100\n",
      "classroom :  50\n",
      "clean_room :  50\n",
      "cliff :  50\n",
      "cloister :  50\n",
      "closet :  50\n",
      "clothing_store :  50\n",
      "coast :  50\n",
      "cockpit :  50\n",
      "coffee_shop :  50\n",
      "computer_room :  50\n",
      "conference_center :  50\n",
      "conference_room :  50\n",
      "construction_site :  50\n",
      "control_room :  50\n",
      "control_tower :  50\n",
      "corn_field :  50\n",
      "corral :  50\n",
      "corridor :  50\n",
      "cottage_garden :  50\n",
      "courthouse :  50\n",
      "courtroom :  50\n",
      "courtyard :  50\n",
      "covered_bridge :  50\n",
      "creek :  50\n",
      "crevasse :  50\n",
      "crosswalk :  50\n",
      "cubicle :  50\n",
      "dam :  50\n",
      "delicatessen :  50\n",
      "dentists_office :  50\n",
      "desert :  100\n",
      "diner :  100\n",
      "dinette :  100\n",
      "dining_car :  50\n",
      "dining_room :  50\n",
      "discotheque :  50\n",
      "dock :  50\n",
      "doorway :  50\n",
      "dorm_room :  50\n",
      "driveway :  50\n",
      "driving_range :  50\n",
      "drugstore :  50\n",
      "electrical_substation :  50\n",
      "elevator :  100\n",
      "elevator_shaft :  50\n",
      "engine_room :  50\n",
      "escalator :  50\n",
      "excavation :  50\n",
      "factory :  50\n",
      "fairway :  50\n",
      "fastfood_restaurant :  50\n",
      "field :  100\n",
      "fire_escape :  50\n",
      "fire_station :  50\n",
      "firing_range :  50\n",
      "fishpond :  50\n",
      "florist_shop :  50\n",
      "food_court :  50\n",
      "forest :  100\n",
      "forest_path :  50\n",
      "forest_road :  50\n",
      "formal_garden :  50\n",
      "fountain :  50\n",
      "galley :  50\n",
      "game_room :  50\n",
      "garage :  50\n",
      "garbage_dump :  50\n",
      "gas_station :  50\n",
      "gazebo :  50\n",
      "general_store :  100\n",
      "gift_shop :  50\n",
      "golf_course :  50\n",
      "greenhouse :  100\n",
      "gymnasium :  50\n",
      "hangar :  100\n",
      "harbor :  50\n",
      "hayfield :  50\n",
      "heliport :  50\n",
      "herb_garden :  50\n",
      "highway :  50\n",
      "hill :  50\n",
      "home_office :  50\n",
      "hospital :  50\n",
      "hospital_room :  50\n",
      "hot_spring :  50\n",
      "hot_tub :  50\n",
      "hotel :  50\n",
      "hotel_room :  50\n",
      "house :  50\n",
      "hunting_lodge :  50\n",
      "ice_cream_parlor :  50\n",
      "ice_floe :  50\n",
      "ice_shelf :  50\n",
      "ice_skating_rink :  100\n",
      "iceberg :  50\n",
      "igloo :  50\n",
      "industrial_area :  50\n",
      "inn :  50\n",
      "islet :  50\n",
      "jacuzzi :  50\n",
      "jail :  50\n",
      "jail_cell :  50\n",
      "jewelry_shop :  50\n",
      "kasbah :  50\n",
      "kennel :  100\n",
      "kindergarden_classroom :  50\n",
      "kitchen :  50\n",
      "kitchenette :  50\n",
      "labyrinth :  50\n",
      "lake :  50\n",
      "landfill :  50\n",
      "landing_deck :  50\n",
      "laundromat :  50\n",
      "lecture_room :  50\n",
      "library :  100\n",
      "lido_deck :  50\n",
      "lift_bridge :  50\n",
      "lighthouse :  50\n",
      "limousine_interior :  50\n",
      "living_room :  50\n",
      "lobby :  50\n",
      "lock_chamber :  50\n",
      "locker_room :  50\n",
      "mansion :  50\n",
      "manufactured_home :  50\n",
      "market :  100\n",
      "marsh :  50\n",
      "martial_arts_gym :  50\n",
      "mausoleum :  50\n",
      "medina :  50\n",
      "moat :  50\n",
      "monastery :  50\n",
      "mosque :  100\n",
      "motel :  50\n",
      "mountain :  50\n",
      "mountain_snowy :  50\n",
      "movie_theater :  50\n",
      "museum :  50\n",
      "music_store :  50\n",
      "music_studio :  50\n",
      "nuclear_power_plant :  50\n",
      "nursery :  50\n",
      "oast_house :  50\n",
      "observatory :  50\n",
      "ocean :  50\n",
      "office :  50\n",
      "office_building :  50\n",
      "oil_refinery :  50\n",
      "oilrig :  50\n",
      "operating_room :  50\n",
      "orchard :  50\n",
      "outhouse :  50\n",
      "pagoda :  50\n",
      "palace :  50\n",
      "pantry :  50\n",
      "park :  50\n",
      "parking_garage :  100\n",
      "parking_lot :  50\n",
      "parlor :  50\n",
      "pasture :  50\n",
      "patio :  50\n",
      "pavilion :  50\n",
      "pharmacy :  50\n",
      "phone_booth :  50\n",
      "physics_laboratory :  50\n",
      "picnic_area :  50\n",
      "pilothouse :  50\n",
      "planetarium :  50\n",
      "playground :  50\n",
      "playroom :  50\n",
      "plaza :  50\n",
      "podium :  100\n",
      "pond :  50\n",
      "poolroom :  100\n",
      "power_plant :  50\n",
      "promenade_deck :  50\n",
      "pub :  50\n",
      "pulpit :  50\n",
      "putting_green :  50\n",
      "racecourse :  50\n",
      "raceway :  50\n",
      "raft :  50\n",
      "railroad_track :  50\n",
      "rainforest :  50\n",
      "reception :  50\n",
      "recreation_room :  50\n",
      "residential_neighborhood :  50\n",
      "restaurant :  50\n",
      "restaurant_kitchen :  50\n",
      "restaurant_patio :  50\n",
      "rice_paddy :  50\n",
      "riding_arena :  50\n",
      "river :  50\n",
      "rock_arch :  50\n",
      "rope_bridge :  50\n",
      "ruin :  50\n",
      "runway :  50\n",
      "sandbar :  50\n",
      "sandbox :  50\n",
      "sauna :  50\n",
      "schoolhouse :  50\n",
      "sea_cliff :  50\n",
      "server_room :  50\n",
      "shed :  50\n",
      "shoe_shop :  50\n",
      "shopfront :  50\n",
      "shopping_mall :  50\n",
      "shower :  50\n",
      "skatepark :  50\n",
      "ski_lodge :  50\n",
      "ski_resort :  50\n",
      "ski_slope :  50\n",
      "sky :  50\n",
      "skyscraper :  50\n",
      "slum :  50\n",
      "snowfield :  50\n",
      "squash_court :  50\n",
      "stable :  50\n",
      "stadium :  100\n",
      "stage :  50\n",
      "staircase :  50\n",
      "street :  50\n",
      "subway_interior :  50\n",
      "subway_station :  50\n",
      "supermarket :  50\n",
      "sushi_bar :  50\n",
      "swamp :  50\n",
      "swimming_pool :  100\n",
      "synagogue :  100\n",
      "television_studio :  50\n",
      "temple :  100\n",
      "tennis_court :  100\n",
      "tent :  50\n",
      "theater :  100\n",
      "thriftshop :  50\n",
      "throne_room :  50\n",
      "ticket_booth :  50\n",
      "toll_plaza :  50\n",
      "topiary_garden :  50\n",
      "tower :  50\n",
      "toyshop :  50\n",
      "track :  50\n",
      "train_railway :  50\n",
      "train_station :  50\n",
      "tree_farm :  50\n",
      "tree_house :  50\n",
      "trench :  50\n",
      "underwater :  50\n",
      "utility_room :  50\n",
      "valley :  50\n",
      "van_interior :  50\n",
      "vegetable_garden :  50\n",
      "veranda :  50\n",
      "veterinarians_office :  50\n",
      "viaduct :  50\n",
      "videostore :  50\n",
      "village :  50\n",
      "vineyard :  50\n",
      "volcano :  50\n",
      "volleyball_court :  100\n",
      "waiting_room :  50\n",
      "warehouse :  50\n",
      "water_tower :  50\n",
      "waterfall :  150\n",
      "watering_hole :  50\n",
      "wave :  50\n",
      "wet_bar :  50\n",
      "wheat_field :  50\n",
      "wind_farm :  50\n",
      "windmill :  50\n",
      "wine_cellar :  100\n",
      "wrestling_ring :  50\n",
      "yard :  50\n",
      "youth_hostel :  50\n"
     ]
    }
   ],
   "source": [
    "from collections import Counter\n",
    "\n",
    "with open('Training_01.txt','r') as read_file:\n",
    "    reading = read_file.read().splitlines()\n",
    "    freq = {}\n",
    "    for k in reading:\n",
    "        for k in (k[3:].split('/')[0].split()):\n",
    "            if (k in freq): \n",
    "                freq[k] += 1\n",
    "            else: \n",
    "                freq[k] = 1\n",
    "  \n",
    "    for key, value in freq.items(): \n",
    "        print(\"% s : % d\"%(key, value))\n",
    "        \n",
    "read_file.close()"
   ]
  },
  {
   "cell_type": "markdown",
   "metadata": {},
   "source": [
    "## 23. File Overlap"
   ]
  },
  {
   "cell_type": "raw",
   "metadata": {},
   "source": [
    "Given two .txt files that have lists of numbers in them, find the numbers that are overlapping. One .txt file has a list of all prime numbers under 1000, and the other .txt file has a list of happy numbers up to 1000.\n",
    "\n",
    "(If you forgot, prime numbers are numbers that can’t be divided by any other number. And yes, happy numbers are a real thing in mathematics - you can look it up on Wikipedia. The explanation is easier with an example, which I will describe below.)"
   ]
  },
  {
   "cell_type": "code",
   "execution_count": 70,
   "metadata": {},
   "outputs": [
    {
     "name": "stdout",
     "output_type": "stream",
     "text": [
      "[7, 13, 19, 23, 31, 79, 97, 103, 109, 139, 167, 193, 239, 263, 293, 313, 331, 367, 379, 383, 397, 409, 487, 563, 617, 653, 673, 683, 709, 739, 761, 863, 881, 907, 937]\n"
     ]
    }
   ],
   "source": [
    "def filetolistofints(filename):\n",
    "    list_to_return = []\n",
    "    with open(filename) as f:\n",
    "        line = f.readline()\n",
    "        while line:\n",
    "            list_to_return.append(int(line))\n",
    "            line = f.readline()\n",
    "    return list_to_return\n",
    "\n",
    "primeslist = filetolistofints('primenumbers.txt')\n",
    "happieslist = filetolistofints('happynumbers.txt')\n",
    "\n",
    "overlaplist = [elem for elem in primeslist if elem in happieslist]\n",
    "print(overlaplist)"
   ]
  },
  {
   "cell_type": "markdown",
   "metadata": {},
   "source": [
    "## 24. MAX of three"
   ]
  },
  {
   "cell_type": "raw",
   "metadata": {},
   "source": [
    "Implement a function that takes as input three variables, and returns the largest of the three. Do this without using the Python max() function!"
   ]
  },
  {
   "cell_type": "code",
   "execution_count": 86,
   "metadata": {},
   "outputs": [],
   "source": [
    "def max_of_three(a,b,c):\n",
    "    numbers = [a,b,c]\n",
    "    if len(set(numbers)) != 3:\n",
    "        print('Enter three different numbers')\n",
    "    if a > b and a > c:\n",
    "        return a\n",
    "    elif b > a and b > c:\n",
    "        return b\n",
    "    else:\n",
    "        return c"
   ]
  },
  {
   "cell_type": "code",
   "execution_count": 87,
   "metadata": {},
   "outputs": [
    {
     "name": "stdout",
     "output_type": "stream",
     "text": [
      "Enter three different numbers\n",
      "4.1\n",
      "78.0\n"
     ]
    }
   ],
   "source": [
    "print(max_of_three(-3,4.1,4.1))\n",
    "print(max_of_three(-3,234/3,5))"
   ]
  },
  {
   "cell_type": "markdown",
   "metadata": {},
   "source": [
    "## 25. Pick Word"
   ]
  },
  {
   "cell_type": "raw",
   "metadata": {},
   "source": [
    "In this exercise, the task is to write a function that picks a random word from a list of words from the SOWPODS dictionary. Download this file and save it in the same directory as your Python code. This file is Peter Norvig’s compilation of the dictionary of words used in professional Scrabble tournaments. Each line in the file contains a single word."
   ]
  },
  {
   "cell_type": "code",
   "execution_count": 4,
   "metadata": {},
   "outputs": [
    {
     "name": "stdout",
     "output_type": "stream",
     "text": [
      "DENSIFICATION\n"
     ]
    }
   ],
   "source": [
    "import random\n",
    "with open('sowpods.txt' , 'r') as sow_file:\n",
    "    print(random.choice(sow_file.read().splitlines()))"
   ]
  },
  {
   "cell_type": "markdown",
   "metadata": {},
   "source": [
    "## 26. Hangman Game !!"
   ]
  },
  {
   "cell_type": "raw",
   "metadata": {},
   "source": [
    "In the game of Hangman, a clue word is given by the program that the player has to guess, letter by letter. The player guesses one letter at a time until the entire word has been guessed. (In the actual game, the player can only guess 6 letters incorrectly before losing).\n",
    "\n",
    "Let’s say the word the player has to guess is “EVAPORATE”. For this exercise, write the logic that asks a player to guess a letter and displays letters in the clue word that were guessed correctly. For now, let the player guess an infinite number of times until they get the entire word. As a bonus, keep track of the letters the player guessed and display a different message if the player tries to guess that letter again. Remember to stop the game when all the letters have been guessed correctly! "
   ]
  },
  {
   "cell_type": "code",
   "execution_count": 4,
   "metadata": {},
   "outputs": [
    {
     "name": "stdout",
     "output_type": "stream",
     "text": [
      "Welcome to hangman!!\n",
      "guess letter: o\n",
      "____O__\n",
      "guess letter: p\n",
      "____O__\n",
      "guess letter: sd\n",
      "____O__\n",
      "guess letter: df\n",
      "____O__\n",
      "guess letter: s\n",
      "___SO__\n",
      "guess letter: a\n",
      "A__SO__\n",
      "guess letter: s\n",
      "Already guessed!!\n",
      "A__SO__\n",
      "guess letter: w\n",
      "AW_SO__\n",
      "guess letter: m\n",
      "AW_SOM_\n",
      "guess letter: e\n",
      "You won!!\n"
     ]
    }
   ],
   "source": [
    "import random\n",
    "\n",
    "if __name__ == '__main__':\n",
    "    print(\"Welcome to hangman!!\")\n",
    "    words = ['DATA','SCIENCE','AWESOME']\n",
    "    word = random.choice(words)\n",
    "    guessed = \"_\" * len(word)\n",
    "    word = list(word)\n",
    "    guessed = list(guessed)\n",
    "    lstGuessed = []\n",
    "    letter = input(\"guess letter: \")\n",
    "    while True:\n",
    "        if letter.upper() in lstGuessed:\n",
    "            letter = ''\n",
    "            print(\"Already guessed!!\")\n",
    "        elif letter.upper() in word:\n",
    "            index = word.index(letter.upper())\n",
    "            guessed[index] = letter.upper()\n",
    "            word[index] = '_'\n",
    "        else:\n",
    "            print(''.join(guessed))\n",
    "            if letter is not '':\n",
    "                lstGuessed.append(letter.upper())\n",
    "            letter = input(\"guess letter: \")\n",
    "\n",
    "        if '_' not in guessed:\n",
    "            print(\"You won!!\")\n",
    "            break"
   ]
  },
  {
   "cell_type": "markdown",
   "metadata": {},
   "source": [
    "## 26. Birthday Dictionaries"
   ]
  },
  {
   "cell_type": "raw",
   "metadata": {},
   "source": [
    "For this exercise, we will keep track of when our friend’s birthdays are, and be able to find that information based on their name. Create a dictionary (in your file) of names and birthdays. When you run your program it should ask the user to enter a name, and return the birthday of that person back to them. The interaction should look something like this:\n",
    "\n",
    ">>> Welcome to the birthday dictionary. We know the birthdays of:\n",
    "Albert Einstein\n",
    "Benjamin Franklin\n",
    "Ada Lovelace\n",
    ">>> Who's birthday do you want to look up?\n",
    "Benjamin Franklin\n",
    ">>> Benjamin Franklin's birthday is 01/17/1706."
   ]
  },
  {
   "cell_type": "code",
   "execution_count": 2,
   "metadata": {},
   "outputs": [
    {
     "name": "stdout",
     "output_type": "stream",
     "text": [
      "Welcome to the birthday dictionary. We know the birthdays of:\n",
      "\n",
      "sanketh\n",
      "amruta\n",
      "asha\n",
      "narayan\n",
      "bhavani\n",
      "Please enter the name of the person : sanketh\n",
      "sanketh's birthday is 11/26/1992.\n"
     ]
    }
   ],
   "source": [
    "if __name__ == '__main__':\n",
    "    birthdays = {\n",
    "        'sanketh' : '11/26/1992',\n",
    "        'amruta' : '05/25/1993',\n",
    "        'asha' : '12/25/1969',\n",
    "        'narayan' : '03/24/1960',\n",
    "        'bhavani' : '08/02/1989' }\n",
    "    print('Welcome to the birthday dictionary. We know the birthdays of:\\n')\n",
    "    for k,v in birthdays.items():\n",
    "        print(k)\n",
    "    inp = str(input('Please enter the name of the person : ')).lower()\n",
    "    print(\"{0}'s birthday is {1}.\".format(inp,birthdays[inp])) "
   ]
  },
  {
   "cell_type": "markdown",
   "metadata": {},
   "source": [
    "## 27. Birthday JSON"
   ]
  },
  {
   "cell_type": "raw",
   "metadata": {},
   "source": [
    "In the previous exercise we created a dictionary of famous scientists’ birthdays. In this exercise, modify your program from Part 1 to load the birthday dictionary from a JSON file on disk, rather than having the dictionary defined in the program.\n",
    "\n",
    "Bonus: Ask the user for another scientist’s name and birthday to add to the dictionary, and update the JSON file you have on disk with the scientist’s name. If you run the program multiple times and keep adding new names, your JSON file should keep getting bigger and bigger."
   ]
  },
  {
   "cell_type": "code",
   "execution_count": 6,
   "metadata": {},
   "outputs": [
    {
     "name": "stdout",
     "output_type": "stream",
     "text": [
      "\n",
      "\n",
      "We have birthdays of the following people...\n",
      "\n",
      "Ben Franklin\n",
      "\n",
      "James Watt\n",
      "\n",
      "Albert Einstein\n",
      "\n",
      "Neils Bohr\n",
      "\n",
      "Clark Maxwell\n",
      "\n",
      "Richard Fienmann\n",
      "\n",
      "Sanketh\n",
      "\n",
      "sanketh\n",
      "\n",
      "amruta\n",
      "\n",
      "asha\n",
      "\n",
      "narayan\n",
      "\n",
      "bhavani\n",
      "1. Find somebody's birthday. \n",
      "2. Add birthday \n",
      "\n",
      "amruta\n",
      "\n",
      "Invalid Choice!\n",
      "\n",
      "Do you wanna use again (yes/no): yes\n",
      "\n",
      "\n",
      "We have birthdays of the following people...\n",
      "\n",
      "Ben Franklin\n",
      "\n",
      "James Watt\n",
      "\n",
      "Albert Einstein\n",
      "\n",
      "Neils Bohr\n",
      "\n",
      "Clark Maxwell\n",
      "\n",
      "Richard Fienmann\n",
      "\n",
      "Sanketh\n",
      "\n",
      "sanketh\n",
      "\n",
      "amruta\n",
      "\n",
      "asha\n",
      "\n",
      "narayan\n",
      "\n",
      "bhavani\n",
      "1. Find somebody's birthday. \n",
      "2. Add birthday \n",
      "\n",
      "1\n",
      "Enter the person's name: amruta\n",
      "The birthday for amruta is 05/25/1993\n",
      "\n",
      "Do you wanna use again (yes/no): no\n"
     ]
    }
   ],
   "source": [
    "import json\n",
    "\n",
    "answer='yes'\n",
    "\n",
    "while answer!='no':\n",
    "    with open(\"birthdays_1.json\",\"r\") as f_r:\n",
    "        data = json.load(f_r)\n",
    "    \n",
    "    print(\"\\n\\nWe have birthdays of the following people...\")\n",
    "    for i in data:\n",
    "        print (\"\\n\" + i)\n",
    "    \n",
    "    ans = input(\"1. Find somebody's birthday. \\n2. Add birthday \\n\\n\")\n",
    "\n",
    "    if ans=='1':\n",
    "        name = input(\"Enter the person's name: \")\n",
    "\n",
    "        print (\"The birthday for {} is {}\".format(name, data.get(name, \"not in our database\")))\n",
    "\n",
    "    \n",
    "    elif ans=='2':\n",
    "        n = int(input(\"How many birthdays do you wanna add? (max 3 at a time) \"))\n",
    "        i=0\n",
    "        while i<n:\n",
    "            print(\"\\nScientist \",i+1)\n",
    "            new_name = input(\"\\nEnter the name: \")\n",
    "            new_birthday = input(\"Enter their birthday (dd/mm/yyyy):\")\n",
    "\n",
    "            data[new_name] = new_birthday\n",
    "\n",
    "            with open(\"birthdays_1.json\", \"w\") as f_w:\n",
    "                json.dump(data, f_w)\n",
    "            \n",
    "            print (\"Birthday Added!\")\n",
    "        \n",
    "            i+=1\n",
    "    \n",
    "    else:\n",
    "        print(\"\\nInvalid Choice!\")\n",
    "\n",
    "    answer = input(\"\\nDo you wanna use again (yes/no): \")"
   ]
  },
  {
   "cell_type": "markdown",
   "metadata": {},
   "source": [
    "## 28. Birthday Months"
   ]
  },
  {
   "cell_type": "raw",
   "metadata": {},
   "source": [
    "In the previous exercise we saved information about famous scientists’ names and birthdays to disk. In this exercise, load that JSON file from disk, extract the months of all the birthdays, and count how many scientists have a birthday in each month.\n",
    "\n",
    "Your program should output something like:\n",
    "\n",
    "{\n",
    "\t\"May\": 3,\n",
    "\t\"November\": 2,\n",
    "\t\"December\": 1\n",
    "}"
   ]
  },
  {
   "cell_type": "code",
   "execution_count": 22,
   "metadata": {},
   "outputs": [
    {
     "data": {
      "text/plain": [
       "Counter({'January': 2,\n",
       "         'March': 2,\n",
       "         'October': 1,\n",
       "         'June': 1,\n",
       "         'May': 2,\n",
       "         'November': 2,\n",
       "         'December': 1,\n",
       "         'August': 1})"
      ]
     },
     "execution_count": 22,
     "metadata": {},
     "output_type": "execute_result"
    }
   ],
   "source": [
    "# Solution using datetime package\n",
    "import json\n",
    "from datetime import datetime\n",
    "import calendar\n",
    "from collections import Counter\n",
    "\n",
    "months = []\n",
    "\n",
    "with open(\"birthdays_1.json\",\"r\") as f_r:\n",
    "    data = json.load(f_r)\n",
    "\n",
    "for k in data.values():\n",
    "    a = datetime.strptime(k, '%d/%m/%Y')\n",
    "    months.append(calendar.month_name[a.month])\n",
    "    \n",
    "Counter(months)   "
   ]
  },
  {
   "cell_type": "code",
   "execution_count": 27,
   "metadata": {},
   "outputs": [
    {
     "name": "stdout",
     "output_type": "stream",
     "text": [
      "Counter({'26/11/1992': 2, '17/1/1776': 1, '30/1/1736': 1, '14/3/1879': 1, '7/10/1885': 1, '13/6/1831': 1, '11/5/1918': 1, '25/5/1993': 1, '25/12/1969': 1, '24/3/1960': 1, '2/8/1989': 1})\n"
     ]
    }
   ],
   "source": [
    "# Solution using slicing and indexing\n",
    "import json\n",
    "from collections import Counter\n",
    "\n",
    "month = []\n",
    "\n",
    "with open(\"birthdays_1.json\", \"r\") as f:\n",
    "    birthdays = json.load(f)\n",
    "\n",
    "for x in birthdays.values():\n",
    "    month.append(x.split()[0])\n",
    "\n",
    "print(Counter(month))"
   ]
  },
  {
   "cell_type": "markdown",
   "metadata": {},
   "source": [
    "## 29. Birthday Plots"
   ]
  },
  {
   "cell_type": "markdown",
   "metadata": {},
   "source": [
    "In the previous exercise we counted how many birthdays there are in each month in our dictionary of birthdays.\n",
    "\n",
    "In this exercise, use the bokeh Python library to plot a histogram of which months the scientists have birthdays in! Because it would take a long time for you to input the months of various scientists, you can use my scientist birthday JSON file. Just parse out the months (if you don’t know how, I suggest looking at the previous exercise or its solution) and draw your histogram."
   ]
  },
  {
   "cell_type": "code",
   "execution_count": 33,
   "metadata": {},
   "outputs": [
    {
     "name": "stdout",
     "output_type": "stream",
     "text": [
      "Counter({'January': 2, 'March': 2, 'May': 2, 'November': 2, 'October': 1, 'June': 1, 'December': 1, 'August': 1})\n"
     ]
    }
   ],
   "source": [
    "# Solution using datetime package\n",
    "import json\n",
    "from datetime import datetime\n",
    "import calendar\n",
    "from collections import Counter\n",
    "from bokeh.plotting import figure, show, output_file\n",
    "\n",
    "months = []\n",
    "\n",
    "with open(\"birthdays_1.json\",\"r\") as f_r:\n",
    "    data = json.load(f_r)\n",
    "\n",
    "for k in data.values():\n",
    "    a = datetime.strptime(k, '%d/%m/%Y')\n",
    "    months.append(calendar.month_name[a.month])\n",
    "    \n",
    "c = Counter(months)   \n",
    "print(c)\n",
    "# Bokeh\n",
    "output_file(\"plot.html\")\n",
    "\n",
    "x_categories = list(calendar.month_name)\n",
    "x = list(c.keys())\n",
    "y = list(c.values())\n",
    "\n",
    "p = figure(x_range=x_categories)\n",
    "p.vbar(x=x, top=y, width=0.5)\n",
    "\n",
    "show(p)"
   ]
  },
  {
   "cell_type": "code",
   "execution_count": null,
   "metadata": {},
   "outputs": [],
   "source": []
  }
 ],
 "metadata": {
  "kernelspec": {
   "display_name": "Python 3",
   "language": "python",
   "name": "python3"
  },
  "language_info": {
   "codemirror_mode": {
    "name": "ipython",
    "version": 3
   },
   "file_extension": ".py",
   "mimetype": "text/x-python",
   "name": "python",
   "nbconvert_exporter": "python",
   "pygments_lexer": "ipython3",
   "version": "3.6.4"
  }
 },
 "nbformat": 4,
 "nbformat_minor": 2
}
